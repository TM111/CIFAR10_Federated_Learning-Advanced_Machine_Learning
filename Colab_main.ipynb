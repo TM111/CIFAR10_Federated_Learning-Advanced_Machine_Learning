{
  "cells": [
    {
      "cell_type": "code",
      "execution_count": 1,
      "metadata": {
        "colab": {
          "base_uri": "https://localhost:8080/",
          "height": 644
        },
        "id": "8PoT-skkT-GK",
        "outputId": "721e820f-93c7-436c-d861-250c1becc9aa"
      },
      "outputs": [
        {
          "output_type": "stream",
          "name": "stdout",
          "text": [
          ]
        },
        {
          "output_type": "display_data",
          "data": {
            "application/vnd.colab-display-data+json": {
              "pip_warning": {
                "packages": [
                  "PIL"
                ]
              }
            }
          },
          "metadata": {}
        },
        {
          "output_type": "stream",
          "name": "stdout",
          "text": [
          ]
        }
      ],
      "source": [
        "!pip3 install 'torch'\n",
        "!pip3 install 'torchvision'\n",
        "!pip3 install 'Pillow-SIMD'\n",
        "!pip3 install 'tqdm'\n",
        "!git clone https://github.com/TM111/CIFAR10_Federated_Learning-Advanced_Machine_Learning"
      ]
    },
    {
      "cell_type": "code",
      "execution_count": 2,
      "metadata": {
        "colab": {
          "base_uri": "https://localhost:8080/"
        },
        "id": "6XXQHX3B2Y-_",
        "outputId": "9d77db68-ca7f-45c7-aa91-5c62e441df8b"
      },
      "outputs": [
        {
          "output_type": "stream",
          "name": "stdout",
          "text": [
          ]
        }
      ],
      "source": [
        "!git pull"
      ]
    },
    {
      "cell_type": "code",
      "execution_count": 9,
      "metadata": {
        "colab": {
          "base_uri": "https://localhost:8080/"
        },
        "id": "pS7mx9eUaN0r",
        "outputId": "f9f6f1c7-59ca-4249-ffe4-e04fae08e161"
      },
      "outputs": [
        {
          "output_type": "stream",
          "name": "stdout",
          "text": [
          ]
        }
      ],
      "source": [
        "%cd CIFAR10_Federated_Learning-Advanced_Machine_Learning/src\n",
        "!python baseline_main.py \\\n",
        "--MODEL='LeNet5_mod' \\\n",
        "--PRETRAIN=0 \\\n",
        "--FREEZE=0 \\\n",
        "--BATCH_NORM=1 \\\n",
        "--NUM_EPOCHS=3 \\\n",
        "--ALGORITHM='FedNova' \\\n",
        "--FEDIR=0 \\\n",
        "--FEDVC=0 \\\n",
        "--DISTRIBUTION='multimodal' \\\n",
        "--ALPHA=0 \\\n",
        "--NUM_CLIENTS=100 \\\n",
        "--NUM_SELECTED_CLIENTS=25 \\\n",
        "--ROUNDS=25 \\\n",
        "--DEVICE='cuda' \\\n",
        "--COLAB=1 \\\n",
        "--RATIO=0.25 \\\n",
        "--Z=3\n"
      ]
    }
  ],
  "metadata": {
    "accelerator": "GPU",
    "colab": {
      "collapsed_sections": [],
      "name": "PYTHON3.ipynb",
      "provenance": []
    },
    "kernelspec": {
      "display_name": "Python 3",
      "name": "python3"
    },
    "language_info": {
      "name": "python"
    }
  },
  "nbformat": 4,
  "nbformat_minor": 0
}
