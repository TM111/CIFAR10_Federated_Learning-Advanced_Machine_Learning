{
  "cells": [
    {
      "cell_type": "code",
      "source": [
        "!pip3 install 'torch'\n",
        "!pip3 install 'torchvision'\n",
        "!pip3 install 'Pillow-SIMD'\n",
        "!pip3 install 'tqdm'\n",
        "!git clone https://github.com/TM111/CIFAR10_Federated_Learning-Advanced_Machine_Learning"
      ],
      "metadata": {
        "id": "8PoT-skkT-GK"
      },
      "execution_count": null,
      "outputs": []
    },
    {
      "cell_type": "code",
      "source": [
        "!git pull"
      ],
      "metadata": {
        "id": "6XXQHX3B2Y-_"
      },
      "execution_count": null,
      "outputs": []
    },
    {
      "cell_type": "code",
      "source": [
        "%cd CIFAR10_Federated_Learning-Advanced_Machine_Learning/src\n",
        "!python baseline_main.py \\\n",
        "--MODEL='LeNet5' \\\n",
        "--CENTRALIZED_MODE=1 \\\n",
        "--COLAB=1"
      ],
      "metadata": {
        "colab": {
          "base_uri": "https://localhost:8080/"
        },
        "id": "ZBTXK-qYyCN7",
        "outputId": "82124903-d00c-4632-ad47-afb480040d3d"
      },
      "execution_count": null,
      "outputs": [
        {
          "output_type": "stream",
          "name": "stdout",
          "text": [
            "[Errno 2] No such file or directory: 'CIFAR10_Federated_Learning-Advanced_Machine_Learning/src'\n",
            "/content/CIFAR10_Federated_Learning-Advanced_Machine_Learning/src\n",
            "Namespace(ALPHA='0.50', BATCH_SIZE=64, CENTRALIZED_MODE=1, COLAB=1, DEVICE='cuda', DISTRIBUTION=1, LR=0.01, MODEL='LeNet5', MOMENTUM=0.9, NUM_CLASSES=10, NUM_CLASS_RANGE=[1, 7], NUM_CLIENTS=100, NUM_EPOCHS=1, NUM_SELECTED_CLIENTS=3, ROUNDS=20, SERVER_LR=1, WEIGHT_DECAY=0.0004)\n",
            "Files already downloaded and verified\n",
            "Files already downloaded and verified\n",
            "Namespace(ALPHA='0.50', BATCH_SIZE=64, CENTRALIZED_MODE=1, COLAB=1, DEVICE='cuda', DISTRIBUTION=3, LR=0.01, MODEL='LeNet5', MOMENTUM=0.9, NUM_CLASSES=10, NUM_CLASS_RANGE=[1, 7], NUM_CLIENTS=50, NUM_EPOCHS=1, NUM_SELECTED_CLIENTS=3, ROUNDS=20, SERVER_LR=1, WEIGHT_DECAY=0.0004)\n",
            "Train Dataset: 50000\n",
            "Test Dataset: 10000\n",
            "\n"
          ]
        }
      ]
    }
  ],
  "metadata": {
    "accelerator": "GPU",
    "colab": {
      "collapsed_sections": [],
      "name": "PYTHON3.ipynb",
      "provenance": []
    },
    "kernelspec": {
      "display_name": "Python 3",
      "name": "python3"
    },
    "language_info": {
      "name": "python"
    }
  },
  "nbformat": 4,
  "nbformat_minor": 0
}